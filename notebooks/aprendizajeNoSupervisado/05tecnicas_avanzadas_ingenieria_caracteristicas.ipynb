{
 "cells": [
  {
   "cell_type": "markdown",
   "metadata": {},
   "source": [
    "# Técnicas Avanzadas de Ingeniería de Características\n",
    "En este capítulo, exploraremos técnicas avanzadas de ingeniería de características que permiten extraer aún más información útil de los datos y mejorar el rendimiento de los modelos de machine learning. Estas técnicas incluyen el uso de operadores sobrecargados, el manejo avanzado de cadenas, la manipulación de datos de fecha y hora, y la creación de funciones personalizadas para la transformación de características.\n",
    "\n",
    "\n",
    "## Uso de Operadores Sobrecargados en la Ingeniería de Características\n",
    "\n",
    "Los operadores sobrecargados, como los aritméticos y lógicos, se pueden utilizar para crear nuevas características a partir de las existentes. Estos operadores permiten combinar variables de manera que se capturen relaciones más complejas en los datos. Por ejemplo:\n",
    "\n",
    "- Suma y Resta: Pueden utilizarse para calcular diferencias o sumas entre características, lo que puede ser útil para capturar cambios relativos entre variables.\n",
    "- Multiplicación y División: Son útiles para calcular ratios o productos de variables, lo que puede revelar interacciones entre características.\n",
    "- Operadores Lógicos: Como AND, OR, y NOT, pueden combinar características binarias para capturar combinaciones de condiciones.\n",
    "\n",
    "### Ejemplo de Implementación con Operadores Sobrecargados"
   ]
  },
  {
   "cell_type": "code",
   "execution_count": 1,
   "metadata": {},
   "outputs": [
    {
     "name": "stdout",
     "output_type": "stream",
     "text": [
      "   Ventas  Costos  Descuentos  Margen  Ratio_Descuento  Margen_Ajustado\n",
      "0     100      50           5      50         0.050000        47.500000\n",
      "1     150      70          10      80         0.066667        74.666667\n",
      "2     200      90          15     110         0.075000       101.750000\n",
      "3     250     120          20     130         0.080000       119.600000\n",
      "4     300     140          25     160         0.083333       146.666667\n"
     ]
    }
   ],
   "source": [
    "# Importar librerías necesarias\n",
    "import numpy as np\n",
    "import pandas as pd\n",
    "\n",
    "# Crear un DataFrame de ejemplo\n",
    "data = {\n",
    "    'Ventas': [100, 150, 200, 250, 300],\n",
    "    'Costos': [50, 70, 90, 120, 140],\n",
    "    'Descuentos': [5, 10, 15, 20, 25]\n",
    "}\n",
    "\n",
    "df = pd.DataFrame(data)\n",
    "# Crear nuevas características usando operadores sobrecargados\n",
    "df['Margen'] = df['Ventas'] - df['Costos']\n",
    "df['Ratio_Descuento'] = df['Descuentos'] / df['Ventas']\n",
    "df['Margen_Ajustado'] = df['Margen'] * (1 - df['Ratio_Descuento'])\n",
    "\n",
    "print(df)"
   ]
  },
  {
   "cell_type": "markdown",
   "metadata": {},
   "source": [
    "## Manejo Avanzado de Cadenas\n",
    "\n",
    "El manejo de cadenas es esencial cuando se trabaja con datos textuales. La ingeniería de características en cadenas puede implicar la extracción de información útil de texto libre, como la longitud de las cadenas, la frecuencia de palabras, o la detección de patrones específicos mediante expresiones regulares.\n",
    "\n",
    "- Extracción de Subcadenas: Es útil para obtener partes específicas de un texto, como dominios de correo electrónico o códigos postales.\n",
    "- Conteo de Palabras o Caracteres: Ayuda a medir la complejidad de un texto o identificar la cantidad de términos relevantes en una cadena.\n",
    "- Expresiones Regulares: Permiten identificar patrones complejos dentro de las cadenas, como fechas, números de teléfono, o menciones en redes sociales.\n",
    "\n",
    "### Ejemplo de Implementación con Manejo de Cadenas"
   ]
  },
  {
   "cell_type": "code",
   "execution_count": 4,
   "metadata": {},
   "outputs": [
    {
     "name": "stdout",
     "output_type": "stream",
     "text": [
      "              Texto  Longitud  Num_Palabras  Contiene_Python\n",
      "0        Hola mundo        10             2            False\n",
      "1  Machine Learning        16             2            False\n",
      "2  Python es genial        16             3             True\n",
      "3      Data Science        12             2            False\n"
     ]
    }
   ],
   "source": [
    "import re\n",
    "\n",
    "# Crear un DataFrame de ejemplo\n",
    "data = {'Texto': ['Hola mundo', 'Machine Learning', 'Python es genial', 'Data Science']}\n",
    "df = pd.DataFrame(data)\n",
    "\n",
    "# Calcular la longitud de cada cadena\n",
    "df['Longitud'] = df['Texto'].apply(len)\n",
    "\n",
    "# Contar la cantidad de palabras en cada cadena\n",
    "df['Num_Palabras'] = df['Texto'].apply(lambda x: len(x.split()))\n",
    "\n",
    "# Detectar la presencia de una palabra específica usando expresiones regulares\n",
    "df['Contiene_Python'] = df['Texto'].apply(lambda x: bool(re.search(r'Python', x)))\n",
    "\n",
    "print(df)"
   ]
  },
  {
   "cell_type": "markdown",
   "metadata": {},
   "source": [
    "## Manipulación de Datos de Fecha y Hora\n",
    "\n",
    "Trabajar con datos de fecha y hora es común en muchas aplicaciones de machine learning. La ingeniería de características de estos datos permite extraer información temporal relevante, como el día de la semana, la hora del día, o si una fecha cae en un fin de semana o día festivo.\n",
    "\n",
    "- Extracción de Componentes de Fecha: Día, mes, año, hora, minuto, segundo.\n",
    "- Cálculo de Diferencias Temporales: Diferencias en días, semanas, o meses entre dos fechas.\n",
    "- Detección de Estacionalidad: Identificar patrones estacionales mediante la agregación de datos por periodo (día, mes, año).\n",
    "\n",
    "### Ejemplo de Implementación con Fechas y Horas"
   ]
  },
  {
   "cell_type": "code",
   "execution_count": 5,
   "metadata": {},
   "outputs": [
    {
     "name": "stdout",
     "output_type": "stream",
     "text": [
      "      Fechas  Día  Mes   Año  Es_Fin_de_Semana\n",
      "0 2023-01-01    1    1  2023              True\n",
      "1 2023-06-15   15    6  2023             False\n",
      "2 2024-12-31   31   12  2024             False\n"
     ]
    }
   ],
   "source": [
    "import pandas as pd\n",
    "\n",
    "# Crear un DataFrame de ejemplo con fechas\n",
    "data = {'Fechas': pd.to_datetime(['2023-01-01', '2023-06-15', '2024-12-31'])}\n",
    "df = pd.DataFrame(data)\n",
    "\n",
    "# Extraer el día, mes y año\n",
    "df['Día'] = df['Fechas'].dt.day\n",
    "df['Mes'] = df['Fechas'].dt.month\n",
    "df['Año'] = df['Fechas'].dt.year\n",
    "\n",
    "# Calcular si la fecha es un fin de semana\n",
    "df['Es_Fin_de_Semana'] = df['Fechas'].dt.dayofweek >= 5\n",
    "\n",
    "print(df)"
   ]
  },
  {
   "cell_type": "markdown",
   "metadata": {},
   "source": [
    "## Creación de Funciones Personalizadas\n",
    "\n",
    "Las funciones personalizadas son una herramienta poderosa para aplicar transformaciones específicas a las características de un conjunto de datos. Estas funciones pueden ser diseñadas para capturar conocimiento del dominio del problema y aplicar transformaciones que no son posibles con funciones predefinidas.\n",
    "\n",
    "- Función para Escalar y Normalizar Datos: Permite ajustar los valores de una característica dentro de un rango específico, considerando condiciones personalizadas.\n",
    "- Función para Crear Bandas o Categorías: Transforma datos continuos en categorías discretas basadas en umbrales definidos por el usuario.\n",
    "\n",
    "### Ejemplo de Implementación con Funciones Personalizadas"
   ]
  },
  {
   "cell_type": "code",
   "execution_count": 8,
   "metadata": {},
   "outputs": [
    {
     "name": "stdout",
     "output_type": "stream",
     "text": [
      "   Valores  Valores_Escalados   Categoria\n",
      "0       10               0.00        Baja\n",
      "1       20               0.25  Media Baja\n",
      "2       30               0.50       Media\n",
      "3       40               0.75        Alta\n",
      "4       50               1.00    Muy Alta\n"
     ]
    }
   ],
   "source": [
    "import pandas as pd\n",
    "\n",
    "# Crear un DataFrame de ejemplo\n",
    "data = {'Valores': [10, 20, 30, 40, 50]}  # Aquí estamos creando una lista de números\n",
    "df = pd.DataFrame(data)  # Estamos poniendo esos números en una tabla (DataFrame)\n",
    "\n",
    "# Definir una función personalizada para escalar datos\n",
    "def escalar_datos(x, min_val, max_val):\n",
    "    # Esta fórmula toma el número x y lo convierte en un valor entre 0 y 1\n",
    "    return (x - min_val) / (max_val - min_val)\n",
    "\n",
    "# Aplicar la función personalizada de escalado\n",
    "df['Valores_Escalados'] = df['Valores'].apply(escalar_datos, args=(df['Valores'].min(), df['Valores'].max()))\n",
    "# Aquí estamos escalando (cambiando el tamaño) de los números de la columna 'Valores' para que estén entre 0 y 1.\n",
    "# Lo guardamos en una nueva columna llamada 'Valores_Escalados'.\n",
    "\n",
    "# Función para crear bandas o categorías\n",
    "def crear_bandas(x, umbrales, etiquetas):\n",
    "    # Esta función decide a qué grupo pertenece un número (por ejemplo: 'Baja', 'Media', 'Alta')\n",
    "    for i in range(len(umbrales) - 1):  # Recorrer cada umbral (cada \"límite\")\n",
    "        if umbrales[i] <= x < umbrales[i + 1]:  # Si el número está entre dos umbrales\n",
    "            return etiquetas[i]  # Le damos la etiqueta (como 'Baja', 'Media', etc.)\n",
    "    return etiquetas[-1]  # Si el número es más grande que todos los umbrales, le damos la última etiqueta\n",
    "\n",
    "# Definir los umbrales y las etiquetas para las categorías\n",
    "umbrales = [0, 0.2, 0.4, 0.6, 0.8, 1]  # Estos son los límites que dividen los valores en grupos (por ejemplo, 0 a 0.2, 0.2 a 0.4, etc.)\n",
    "etiquetas = ['Baja', 'Media Baja', 'Media', 'Alta', 'Muy Alta']  # Estas son las etiquetas que asignamos a los grupos\n",
    "\n",
    "# Aplicar la función de bandas a los valores escalados\n",
    "df['Categoria'] = df['Valores_Escalados'].apply(crear_bandas, args=(umbrales, etiquetas))\n",
    "# Ahora, usamos la función que creamos para poner cada número en un grupo (banda) de acuerdo a su valor escalado\n",
    "\n",
    "# Imprimir el DataFrame resultante\n",
    "print(df)\n",
    "# Finalmente, mostramos la tabla con los valores escalados y sus categorías\n"
   ]
  },
  {
   "cell_type": "markdown",
   "metadata": {},
   "source": [
    "### Explicación paso a paso:\n",
    "*Crear el DataFrame:*\n",
    "\n",
    "Primero, creamos una tabla con unos números: 10, 20, 30, 40, 50.\n",
    "Escalar los números:\n",
    "\n",
    "La función escalar_datos toma cada número y lo convierte en un valor entre 0 y 1. Es como hacer que todos los números estén dentro de un rango pequeño para poder compararlos mejor.\n",
    "Crear categorías:\n",
    "\n",
    "Luego, tomamos los números escalados y los ponemos en grupos o categorías.\n",
    "Si un número está entre 0 y 0.2, lo llamamos 'Baja'. Si está entre 0.2 y 0.4, lo llamamos 'Media Baja', y así sucesivamente.\n",
    "Esto lo hacemos con la función crear_bandas.\n",
    "Mostrar los resultados:\n",
    "\n",
    "Finalmente, imprimimos la tabla con los valores escalados y su categoría. Así podemos ver en qué grupo está cada número."
   ]
  }
 ],
 "metadata": {
  "kernelspec": {
   "display_name": "machine_learning_ds02",
   "language": "python",
   "name": "python3"
  },
  "language_info": {
   "codemirror_mode": {
    "name": "ipython",
    "version": 3
   },
   "file_extension": ".py",
   "mimetype": "text/x-python",
   "name": "python",
   "nbconvert_exporter": "python",
   "pygments_lexer": "ipython3",
   "version": "3.13.0"
  }
 },
 "nbformat": 4,
 "nbformat_minor": 2
}
