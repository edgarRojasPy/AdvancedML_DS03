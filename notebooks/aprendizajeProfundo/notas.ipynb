{
 "cells": [
  {
   "cell_type": "markdown",
   "metadata": {},
   "source": [
    "| **Función**      | **Rango**           | **Usos**                           | **Ejemplos prácticos**              | **Ventajas**                       | **Limitaciones**                   |\n",
    "|------------------|---------------------|----------------------------------|------------------------------------|-----------------------------------|-----------------------------------|\n",
    "| **Sigmoide**     | (0, 1)              | Salidas probabilísticas (logística). | Clasificación binaria. Ej.: detectar spam. | Suaviza salidas; útil para probabilidad. | Gradientes pequeños (desaparece gradiente). |\n",
    "| **Tangente Hiperbólica (tanh)** | (-1, 1)            | Ocultas en redes neuronales simples. | Reconocimiento de patrones.        | Centrado en 0, mejor que sigmoide. | Gradientes pequeños en extremos.   |\n",
    "| **ReLU**         | [0, ∞)              | Capas ocultas en redes profundas. | Reconocimiento de imágenes. Ej.: CNNs. | Simple, eficiente, evita saturación. | \"Neuronas muertas\" (salida 0 siempre). |\n",
    "| **Leaky ReLU**   | (-∞, ∞)             | Mejora de ReLU (evita neuronas muertas). | Redes neuronales profundas.        | Maneja valores negativos.          | Pequeña pendiente para x<0.        |\n",
    "| **Softmax**      | (0, 1), suma=1      | Última capa para clasificación multiclase. | Clasificación de dígitos (MNIST).  | Distribuye probabilidad total 1.   | Ineficiente en grandes salidas.    |\n",
    "| **Swish**        | (-∞, ∞)             | Redes profundas (nueva alternativa a ReLU). | Modelos avanzados como ResNets.    | Suaviza mejor que ReLU; no saturación. | Computacionalmente más costosa.    |\n",
    "| **Linear**       | (-∞, ∞)             | Problemas de regresión.           | Predicción de valores continuos.   | Sin distorsión de salida.          | No introduce no-linealidad.        |\n"
   ]
  }
 ],
 "metadata": {
  "language_info": {
   "name": "python"
  }
 },
 "nbformat": 4,
 "nbformat_minor": 2
}
